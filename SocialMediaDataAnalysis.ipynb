{
 "cells": [
  {
   "cell_type": "markdown",
   "metadata": {},
   "source": [
    "# Clean & Analyze Social Media"
   ]
  },
  {
   "cell_type": "markdown",
   "metadata": {},
   "source": [
    "## Introduction\n",
    "\n",
    "Social media has become a ubiquitous part of modern life, with platforms such as Instagram, Twitter, and Facebook serving as essential communication channels. Social media data sets are vast and complex, making analysis a challenging task for businesses and researchers alike. In this project, we explore a simulated social media, for example Tweets, data set to understand trends in likes across different categories.\n",
    "\n",
    "## Prerequisites\n",
    "\n",
    "To engage with this project, a basic understanding of Python programming and familiarity with data analysis concepts is recommended. It would also be beneficial to have the following packages installed in your Python environment:\n",
    "\n",
    "- pandas\n",
    "- Matplotlib\n",
    "- (other relevant packages)\n",
    "\n",
    "## Project Scope\n",
    "\n",
    "The objective of this project is to analyze tweets (or other social media data) and gain insights into user engagement. We will explore the data set using visualization techniques to understand the distribution of likes across different categories. Finally, we will analyze the data to draw conclusions about the most popular categories and the overall engagement on the platform.\n",
    "\n"
   ]
  },
  {
   "cell_type": "code",
   "execution_count": 1,
   "metadata": {},
   "outputs": [
    {
     "name": "stdout",
     "output_type": "stream",
     "text": [
      "500\n"
     ]
    }
   ],
   "source": [
    "import random\n",
    "import pandas as pd\n",
    "import seaborn as sns\n",
    "import matplotlib.pyplot as plt\n",
    "\n",
    "%matplotlib inline\n",
    "\n",
    "plt.style.use('dark_background')\n",
    "n = int(input())"
   ]
  },
  {
   "cell_type": "code",
   "execution_count": 2,
   "metadata": {},
   "outputs": [],
   "source": [
    "categories = list([\"Food\", \"Travel\", \"Fashion\", \"Fitness\", \"Music\", \"Culture\", \"Family\", \"Health\"])"
   ]
  },
  {
   "cell_type": "code",
   "execution_count": 3,
   "metadata": {},
   "outputs": [],
   "source": [
    "d = {\n",
    "    'Date': pd.date_range('2021-01-01', periods=n),\n",
    "    'Category': [random.choice(categories) for _ in range(n)],\n",
    "    'Likes': [random.randint(0, 10000) for _ in range(n)]\n",
    "}\n"
   ]
  },
  {
   "cell_type": "code",
   "execution_count": 4,
   "metadata": {},
   "outputs": [
    {
     "data": {
      "text/html": [
       "<div>\n",
       "<style scoped>\n",
       "    .dataframe tbody tr th:only-of-type {\n",
       "        vertical-align: middle;\n",
       "    }\n",
       "\n",
       "    .dataframe tbody tr th {\n",
       "        vertical-align: top;\n",
       "    }\n",
       "\n",
       "    .dataframe thead th {\n",
       "        text-align: right;\n",
       "    }\n",
       "</style>\n",
       "<table border=\"1\" class=\"dataframe\">\n",
       "  <thead>\n",
       "    <tr style=\"text-align: right;\">\n",
       "      <th></th>\n",
       "      <th>Date</th>\n",
       "      <th>Category</th>\n",
       "      <th>Likes</th>\n",
       "    </tr>\n",
       "  </thead>\n",
       "  <tbody>\n",
       "    <tr>\n",
       "      <th>0</th>\n",
       "      <td>2021-01-01</td>\n",
       "      <td>Fashion</td>\n",
       "      <td>1003</td>\n",
       "    </tr>\n",
       "    <tr>\n",
       "      <th>1</th>\n",
       "      <td>2021-01-02</td>\n",
       "      <td>Fashion</td>\n",
       "      <td>4993</td>\n",
       "    </tr>\n",
       "    <tr>\n",
       "      <th>2</th>\n",
       "      <td>2021-01-03</td>\n",
       "      <td>Fitness</td>\n",
       "      <td>8882</td>\n",
       "    </tr>\n",
       "    <tr>\n",
       "      <th>3</th>\n",
       "      <td>2021-01-04</td>\n",
       "      <td>Family</td>\n",
       "      <td>1998</td>\n",
       "    </tr>\n",
       "    <tr>\n",
       "      <th>4</th>\n",
       "      <td>2021-01-05</td>\n",
       "      <td>Travel</td>\n",
       "      <td>9355</td>\n",
       "    </tr>\n",
       "  </tbody>\n",
       "</table>\n",
       "</div>"
      ],
      "text/plain": [
       "        Date Category  Likes\n",
       "0 2021-01-01  Fashion   1003\n",
       "1 2021-01-02  Fashion   4993\n",
       "2 2021-01-03  Fitness   8882\n",
       "3 2021-01-04   Family   1998\n",
       "4 2021-01-05   Travel   9355"
      ]
     },
     "execution_count": 4,
     "metadata": {},
     "output_type": "execute_result"
    }
   ],
   "source": [
    "df = pd.DataFrame(d)\n",
    "df.head()"
   ]
  },
  {
   "cell_type": "code",
   "execution_count": 5,
   "metadata": {},
   "outputs": [
    {
     "name": "stdout",
     "output_type": "stream",
     "text": [
      "Family     68\n",
      "Food       66\n",
      "Fitness    64\n",
      "Fashion    63\n",
      "Health     62\n",
      "Travel     61\n",
      "Culture    60\n",
      "Music      56\n",
      "Name: Category, dtype: int64\n"
     ]
    }
   ],
   "source": [
    "category_counts = df['Category'].value_counts(sort = 'True')\n",
    "print(category_counts)"
   ]
  },
  {
   "cell_type": "code",
   "execution_count": 6,
   "metadata": {},
   "outputs": [
    {
     "name": "stdout",
     "output_type": "stream",
     "text": [
      "        Date Category  Likes\n",
      "0 2021-01-01  Fashion   1003\n",
      "1 2021-01-02  Fashion   4993\n",
      "2 2021-01-03  Fitness   8882\n",
      "3 2021-01-04   Family   1998\n",
      "4 2021-01-05   Travel   9355\n",
      "Family     68\n",
      "Food       66\n",
      "Fitness    64\n",
      "Fashion    63\n",
      "Health     62\n",
      "Travel     61\n",
      "Culture    60\n",
      "Music      56\n",
      "Name: Category, dtype: int64\n"
     ]
    }
   ],
   "source": [
    "df['Likes'] = df['Likes'].astype(int)\n",
    "print(df.head())\n",
    "print(category_counts)"
   ]
  },
  {
   "cell_type": "markdown",
   "metadata": {},
   "source": [
    "## Histogram\n",
    "A histogram is a graphical representation of the distribution of a dataset. It displays the frequency of data points within specified ranges (bins).\n",
    "### Why Use a Histogram?\n",
    "- Understanding Distribution: \n",
    "    The histogram helps visualize the distribution of 'Likes' values, showing how the data points are spread across the range. This can reveal patterns such as skewness, modality (unimodal, bimodal, etc.), and the presence of outliers.\n",
    "- Identifying Data Range: \n",
    "    By plotting 'Likes' on the x-axis and frequency on the y-axis, the histogram shows the range of 'Likes' values and how frequently each range occurs. This is essential for identifying the spread and central tendency of the data.\n",
    "- Detecting Anomalies: \n",
    "    Anomalies or unusual patterns in the data, such as unexpected peaks or gaps, can be easily spotted in a histogram. This can indicate potential data issues or interesting insights."
   ]
  },
  {
   "cell_type": "code",
   "execution_count": 7,
   "metadata": {},
   "outputs": [
    {
     "data": {
      "image/png": "[encoded data removed]",
      "text/plain": [
       "<Figure size 432x288 with 1 Axes>"
      ]
     },
     "metadata": {},
     "output_type": "display_data"
    }
   ],
   "source": [
    "sns.distplot(df['Likes'], bins=25)\n",
    "plt.xlabel('Likes')\n",
    "plt.ylabel('Frequency')\n",
    "plt.title('Histogram of Likes')\n",
    "plt.show()"
   ]
  },
  {
   "cell_type": "markdown",
   "metadata": {},
   "source": [
    "## Boxplot\n",
    "A boxplot (or box-and-whisker plot) is a standardized way of displaying the distribution of data based on a five-number summary: minimum, first quartile (Q1), median (Q2), third quartile (Q3), and maximum.\n",
    "### Why Use a Boxplot?\n",
    "- Summarizing Data Distribution: \n",
    "    The boxplot provides a concise summary of the distribution of 'Likes' within each category. It visually represents the median, quartiles, and potential outliers, giving a quick overview of the data’s spread and central tendency.\n",
    "- Comparing Categories: \n",
    "    By plotting 'Likes' across different categories on the x-axis, the boxplot allows for easy comparison of the distribution between categories. This can reveal which categories have higher engagement or more variability.\n",
    "- Identifying Outliers: \n",
    "    Outliers are data points that fall significantly outside the interquartile range (IQR). The boxplot highlights these outliers, which can be important for understanding unusual behavior or errors in the data."
   ]
  },
  {
   "cell_type": "code",
   "execution_count": 8,
   "metadata": {},
   "outputs": [
    {
     "data": {
      "image/png": "[encoded data removed]",
      "text/plain": [
       "<Figure size 432x288 with 1 Axes>"
      ]
     },
     "metadata": {},
     "output_type": "display_data"
    }
   ],
   "source": [
    "sns.boxplot(x='Category', y='Likes', data=df)\n",
    "plt.xlabel('Category')\n",
    "plt.ylabel('Likes')\n",
    "plt.title('Boxplot of Likes by Category')\n",
    "plt.xticks(rotation=45)\n",
    "plt.show()"
   ]
  },
  {
   "cell_type": "markdown",
   "metadata": {},
   "source": [
    "## Overall Mean of 'Likes'\n",
    "### Central Tendency: \n",
    "    The mean of the 'Likes' column gives us the central value of all the data points in the dataset. It is a measure of central tendency, providing a single value that summarizes the entire dataset.\n",
    "### Benchmarking: \n",
    "    The overall mean can serve as a benchmark against which individual data points or subsets of data can be compared. For instance, you can assess whether a particular category's mean is above or below the overall mean.\n",
    "### Data Distribution Insight: \n",
    "    Knowing the mean helps in understanding the distribution of 'Likes'. For example, if most data points are close to the mean, the distribution is likely narrow. Conversely, if there is significant variation from the mean, the distribution is wide."
   ]
  },
  {
   "cell_type": "code",
   "execution_count": 9,
   "metadata": {},
   "outputs": [
    {
     "name": "stdout",
     "output_type": "stream",
     "text": [
      "Mean of Likes: 4787.468\n",
      "Mean of Likes by Category:\n",
      "Category\n",
      "Culture    5521.516667\n",
      "Family     4568.691176\n",
      "Fashion    4030.095238\n",
      "Fitness    4452.734375\n",
      "Food       5110.530303\n",
      "Health     4890.887097\n",
      "Music      5151.125000\n",
      "Travel     4654.229508\n",
      "Name: Likes, dtype: float64\n"
     ]
    }
   ],
   "source": [
    "mean_likes = df['Likes'].mean()\n",
    "print(f\"Mean of Likes: {mean_likes}\")\n",
    "\n",
    "category_means = df.groupby('Category')['Likes'].mean()\n",
    "print(\"Mean of Likes by Category:\")\n",
    "print(category_means)"
   ]
  },
  {
   "cell_type": "markdown",
   "metadata": {},
   "source": [
    "# Conclusion and Key Findings\n",
    "Throughout this project, my primary goal was to analyze and visualize the 'Likes' data from a given dataset, utilizing pandas for data manipulation and seaborn for visualization. Here, I will detail the process, highlight key findings, discuss challenges, and propose improvements for future projects.\n",
    "## Process and Methodology\n",
    "### Data Preparation:\n",
    "  - Generated a dataset with random 'Likes' values associated with different 'Category' labels.\n",
    "  - Ensured data integrity by converting 'Likes' values to integers.\n",
    "  \n",
    "### Data Visualization:\n",
    "   - Created a histogram to visualize the distribution of 'Likes'.\n",
    "   - Constructed a boxplot to observe the spread and central tendency of 'Likes' across different categories.\n",
    "   \n",
    "### Statistical Analysis:\n",
    "   - Calculated the overall mean of 'Likes'.\n",
    "   - Computed the mean 'Likes' for each category using the groupby method.\n",
    "\n",
    "## Key Findings\n",
    "### Histogram Insights:\n",
    "    The histogram showed a roughly uniform distribution of 'Likes' across the range, with some minor deviations.\n",
    "    The range of 'Likes' extended beyond the expected 0-10000 due to random generation, highlighting a need for input validation.\n",
    "### Boxplot Insights:\n",
    "    The boxplot revealed the distribution of 'Likes' across different categories, identifying any outliers or variations in central tendency.\n",
    "    Some categories exhibited higher variability in 'Likes', suggesting differing levels of engagement.\n",
    "### Statistical Insights:\n",
    "The overall mean of 'Likes' provided a baseline for comparison.\n",
    "Category-specific means highlighted which topics garnered more engagement, useful for targeted content strategies.\n",
    "## Challenges and Solutions\n",
    "### Version Compatibility: \n",
    "Initially encountered issues with the histplot function, which was resolved by switching to distplot due to seaborn version discrepancies.\n",
    "### Data Range Anomalies: \n",
    "The histogram displayed unexpected 'Likes' ranges. Addressed by recognizing the need for stricter data validation in future implementations.\n",
    "## Unique Aspects of My Approach\n",
    "#### Comprehensive Visualization: \n",
    "    Combined multiple visualization techniques to provide a holistic view of the data.\n",
    "#### Iterative Problem-Solving: \n",
    "    Demonstrated adaptability by resolving library compatibility issues and ensuring accurate data representation.\n",
    "#### Attention to Detail: \n",
    "    Focused on data integrity and meaningful analysis, ensuring insights were both accurate and actionable.\n",
    "## Future Improvements\n",
    "Data Validation: Implement input validation to ensure 'Likes' values fall within the expected range.\n",
    "\n",
    "Enhanced Visualizations: Introduce additional plots like scatter plots and heatmaps for deeper insights.\n",
    "\n",
    "Interactive Dashboards: Use tools like Plotly or Dash to create interactive visualizations for more dynamic data exploration.\n",
    "\n",
    "Expanded Analysis: Incorporate additional statistical analyses, such as median, mode, and standard deviation, to provide a more comprehensive understanding.\n"
   ]
  },
  {
   "cell_type": "code",
   "execution_count": null,
   "metadata": {},
   "outputs": [],
   "source": []
  }
 ],
 "metadata": {
  "kernelspec": {
   "display_name": "Python 3",
   "language": "python",
   "name": "python3"
  },
  "language_info": {
   "codemirror_mode": {
    "name": "ipython",
    "version": 3
   },
   "file_extension": ".py",
   "mimetype": "text/x-python",
   "name": "python",
   "nbconvert_exporter": "python",
   "pygments_lexer": "ipython3",
   "version": "3.7.6"
  }
 },
 "nbformat": 4,
 "nbformat_minor": 4
}
